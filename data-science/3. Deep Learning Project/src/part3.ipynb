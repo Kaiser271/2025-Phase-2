{
 "cells": [
  {
   "cell_type": "markdown",
   "id": "2249078461bec40c",
   "metadata": {
    "collapsed": false
   },
   "source": [
    "## Step 0. Folder Structure\n",
    "```\n",
    "3. Deep Learning Project/\n",
    "├── dataset_split/\n",
    "│   ├── train/\n",
    "│   │   ├── african_elephant (780 images)\n",
    "│   │   ├── airliner (780 images)\n",
    "│   │   └── ... (8 more folders)\n",
    "│   ├── val/\n",
    "│   │   ├── african_elephant (260 images)\n",
    "│   │   ├── airliner (260 images)\n",
    "│   │   └── ... (8 more folders)\n",
    "│   └── test (2600 images)\n",
    "├── data_preprocessed/\n",
    "│   ├── labels_train.pt\n",
    "│   ├── labels_val.pt\n",
    "│   ├── tensor_test.pt\n",
    "│   ├── tensor_train.pt\n",
    "│   └── tensor_val.pt\n",
    "├── models/\n",
    "│   ├── resnet18_checkpoint.pkl\n",
    "│   └── resnet34_checkpoint.pkl\n",
    "├── src/\n",
    "│   └── part3.ipynb\n",
    "├── src_datasplit/\n",
    "│   └── data_split.ipynb\n",
    "├── MSA.yaml\n",
    "├── README.md\n",
    "└── IEEE_Report_Template.docx\n",
    "```\n"
   ]
  },
  {
   "cell_type": "code",
   "execution_count": 1,
   "id": "feff9f82a794ed57",
   "metadata": {
    "ExecuteTime": {
     "end_time": "2025-05-10T03:43:05.563885Z",
     "start_time": "2025-05-10T03:43:05.550616Z"
    },
    "collapsed": false
   },
   "outputs": [],
   "source": [
    "# TODO: Import the libraries.\n",
    "from typing import Tuple, List\n",
    "import os\n",
    "import cv2\n",
    "from tqdm import tqdm\n",
    "import numpy as np\n",
    "import torch\n",
    "import torchvision\n",
    "import torch.nn as nn\n",
    "import torch.nn.functional as F\n",
    "from collections import OrderedDict\n",
    "import copy\n",
    "import matplotlib.pyplot as plt\n",
    "import csv\n",
    "import random"
   ]
  },
  {
   "cell_type": "markdown",
   "id": "129404feccd45358",
   "metadata": {
    "collapsed": false
   },
   "source": [
    "## Step 1 Preprocessing\n",
    "1. Load images and labels from folders into lists.\n",
    "2. Resize the images.\n",
    "3. Convert the image data type as float32 and limit the range in [0, 1].\n",
    "4. Convert data from NHWC to NCHW and creat a PyTorch tensor from it.\n",
    "5. Per-channel standardization of the dataset using training set statistics (mean and std computed independently for each color channel).\n",
    "6. Saving the pre-processed sets as .pt files in the correct directory.\n",
    "7. Load the pre-processed sets from .pt files. "
   ]
  },
  {
   "cell_type": "code",
   "execution_count": 291,
   "id": "initial_id",
   "metadata": {
    "ExecuteTime": {
     "end_time": "2025-05-10T03:38:13.117713Z",
     "start_time": "2025-05-10T03:38:13.110009Z"
    },
    "collapsed": true
   },
   "outputs": [],
   "source": [
    "# TODO: 1. Load images from folder into a list.\n",
    "\n",
    "def image_loader(set_dir: str) -> Tuple[List[np.ndarray], List[str]]:\n",
    "\n",
    "    #Intialize lists to hold images and labels\n",
    "    images = []\n",
    "    labels = []\n",
    "    unique_labels = []\n",
    "    d = dict()\n",
    "\n",
    "\n",
    "    # Iterate through the directory structure and load images\n",
    "    for label in os.listdir(set_dir):\n",
    "        label_path = os.path.join(set_dir, label)\n",
    "        if os.path.isdir(label_path):\n",
    "            if not label in unique_labels:\n",
    "                unique_labels.append(label)\n",
    "            for filename in os.listdir(label_path):\n",
    "                img_path = os.path.join(label_path, filename)\n",
    "                img = cv2.imread(img_path)\n",
    "                if img is not None:\n",
    "                    if not label in d:\n",
    "                        d[label] = []\n",
    "                    d[label].append(img) \n",
    "            # If file isnt nested in a folder, it is considered as \"NA\" label\n",
    "        else:\n",
    "            img = cv2.imread(label_path)\n",
    "            if img is not None:\n",
    "                if not \"NA\" in d:\n",
    "                    d[\"NA\"] = []\n",
    "                    unique_labels.append(\"NA\")\n",
    "                d[\"NA\"].append(img)\n",
    "                labels.append(\"NA\")\n",
    "    # If there is only one label then this is the test set\n",
    "    if len(unique_labels) == 1:\n",
    "        for label in unique_labels:\n",
    "            images = d[label]\n",
    "        return images, labels\n",
    "    \n",
    "    # If there are multiple labels we need to iterate through them to get desired structure\n",
    "    while len(unique_labels) > 0:\n",
    "                for label in unique_labels:\n",
    "                    folder = d[label]\n",
    "                    if len(folder) == 0:\n",
    "                        unique_labels.remove(label)\n",
    "                    else:\n",
    "                        image = folder.pop(0)\n",
    "                        d[label] = folder\n",
    "                        images.append(image)\n",
    "                        labels.append(label)    \n",
    "\n",
    "    return images, labels\n"
   ]
  },
  {
   "cell_type": "code",
   "execution_count": 292,
   "id": "bd1862b268144556",
   "metadata": {
    "ExecuteTime": {
     "end_time": "2025-05-10T03:38:39.249145Z",
     "start_time": "2025-05-10T03:38:14.305937Z"
    },
    "collapsed": false
   },
   "outputs": [],
   "source": [
    "# Load images\n",
    "images_train, labels_train = image_loader(\"../dataset_split/train\")\n",
    "images_val, labels_val = image_loader(\"../dataset_split/val\")\n",
    "images_test, _ = image_loader(\"../dataset_split/test\")"
   ]
  },
  {
   "cell_type": "code",
   "execution_count": 293,
   "id": "442deee6",
   "metadata": {},
   "outputs": [],
   "source": [
    "# TODO: 2. Resize images.\n",
    "def img_resize(images: List[np.ndarray], target_size: int = 224) -> np.ndarray:\n",
    "    if not isinstance(images, list):\n",
    "        return images\n",
    "\n",
    "\n",
    "    processed_images = []\n",
    "\n",
    "    for img in images:\n",
    "        # Get image dimensions\n",
    "        h, w, _ = img.shape\n",
    "\n",
    "        # Resize shortest side to target_size\n",
    "        scale = target_size / min(h, w)\n",
    "        new_h = int(round(h * scale))\n",
    "        new_w = int(round(w * scale))\n",
    "        resized = cv2.resize(img, (new_w, new_h), interpolation=cv2.INTER_AREA)\n",
    "\n",
    "        # Center crop to (target_size, target_size)\n",
    "        start_x = max((new_w - target_size) // 2, 0)\n",
    "        start_y = max((new_h - target_size) // 2, 0)\n",
    "        cropped = resized[start_y:start_y + target_size, start_x:start_x + target_size]\n",
    "\n",
    "        # Final check\n",
    "        if cropped.shape[0] != target_size or cropped.shape[1] != target_size:\n",
    "            cropped = cv2.resize(cropped, (target_size, target_size), interpolation=cv2.INTER_AREA)\n",
    "\n",
    "        processed_images.append(cropped)\n",
    "\n",
    "    return np.stack(processed_images)\n",
    "\n",
    "    "
   ]
  },
  {
   "cell_type": "code",
   "execution_count": 294,
   "id": "1975435fea13d751",
   "metadata": {
    "ExecuteTime": {
     "end_time": "2025-05-10T03:39:17.095684Z",
     "start_time": "2025-05-10T03:38:57.883480Z"
    },
    "collapsed": false
   },
   "outputs": [],
   "source": [
    "# Resize the images\n",
    "images_train = img_resize(images_train, 224)\n",
    "images_val = img_resize(images_val, 224)\n",
    "images_test = img_resize(images_test, 224)"
   ]
  },
  {
   "cell_type": "code",
   "execution_count": 295,
   "id": "900d4d31",
   "metadata": {},
   "outputs": [],
   "source": [
    "def normalize_images(images: np.ndarray) -> np.ndarray:\n",
    "\n",
    "    if len(images) == 0:\n",
    "        return np.empty((0, 224, 224, 3), dtype=np.float32)\n",
    "\n",
    "    # Check image type and normalize accordingly (Only one type was encountered)\n",
    "    if images.dtype == 'uint8':\n",
    "        return images.astype(np.float32) / 255.0\n",
    "    elif images.dtype == 'float32': \n",
    "        return images\n",
    "    else:\n",
    "        raise ValueError(\"Unexpected Type\")\n",
    "    "
   ]
  },
  {
   "cell_type": "code",
   "execution_count": 296,
   "id": "bd71fcddecfefdbf",
   "metadata": {
    "ExecuteTime": {
     "end_time": "2025-05-10T03:39:20.788788Z",
     "start_time": "2025-05-10T03:39:17.097418Z"
    },
    "collapsed": false
   },
   "outputs": [],
   "source": [
    "# TODO: 3. Convert the image data type as float32 and limit the range in [0, 1].\n",
    "\n",
    "# Normalize the images\n",
    "images_train = normalize_images(images_train)\n",
    "images_val = normalize_images(images_val)\n",
    "images_test = normalize_images(images_test)"
   ]
  },
  {
   "cell_type": "code",
   "execution_count": 297,
   "id": "af998720",
   "metadata": {},
   "outputs": [],
   "source": [
    "def to_tensor_nchw(images: np.ndarray) -> torch.Tensor:\n",
    "    \"\"\"\n",
    "    Convert a NumPy array from NHWC (N, H, W, C) to NCHW (N, C, H, W) and return as a float32 PyTorch tensor.\n",
    "\n",
    "    Args:\n",
    "        images: NumPy array with shape (N, H, W, C) and dtype float32\n",
    "\n",
    "    Returns:\n",
    "        A PyTorch tensor with shape (N, C, H, W) and dtype torch.float32\n",
    "    \"\"\"\n",
    "    # Checks for correct shape and type\n",
    "    if not isinstance(images, np.ndarray):\n",
    "        raise TypeError(\"Input must be a NumPy array\")\n",
    "    if images.ndim != 4 or images.shape[-1] != 3:\n",
    "        raise ValueError(\"Wrong Shape\")\n",
    "\n",
    "    # Convert from NHWC to NCHW\n",
    "    images_nchw = np.transpose(images, (0, 3, 1, 2))  # (N, C, H, W)\n",
    "\n",
    "    # Convert to PyTorch tensor\n",
    "    return torch.from_numpy(images_nchw).float()"
   ]
  },
  {
   "cell_type": "code",
   "execution_count": 298,
   "id": "1938cec6018a8176",
   "metadata": {
    "ExecuteTime": {
     "end_time": "2025-05-10T03:39:21.156559Z",
     "start_time": "2025-05-10T03:39:20.789492Z"
    },
    "collapsed": false
   },
   "outputs": [],
   "source": [
    "# TODO: 4. Convert data from NHWC to NCHW and create a PyTorch tensor from it.\n",
    "\n",
    "tensor_train = to_tensor_nchw(images_train)\n",
    "tensor_val = to_tensor_nchw(images_val)\n",
    "tensor_test = to_tensor_nchw(images_test)"
   ]
  },
  {
   "cell_type": "code",
   "execution_count": 299,
   "id": "2eef3558",
   "metadata": {},
   "outputs": [],
   "source": [
    "def compute_channel_stats(tensor: torch.Tensor) -> tuple[torch.Tensor, torch.Tensor]:\n",
    "    \"\"\"\n",
    "    Compute per-channel mean and std from a NCHW tensor.\n",
    "\n",
    "    Args:\n",
    "        tensor: PyTorch tensor of shape (N, C, H, W)\n",
    "\n",
    "    Returns:\n",
    "        mean: Tensor of shape (C,)\n",
    "        std: Tensor of shape (C,)\n",
    "    \"\"\"\n",
    "    if tensor.ndim != 4:\n",
    "        raise ValueError(\"Input tensor must be in NCHW format\")\n",
    "\n",
    "    # We compute the mean and std across the batch and spatial dimensions\n",
    "    # (0, 2, 3) means we compute mean/std for each channel\n",
    "    mean = tensor.mean(dim=(0, 2, 3))\n",
    "    std = tensor.std(dim=(0, 2, 3), unbiased=False)\n",
    "    return mean, std\n",
    "\n",
    "\n",
    "def standardize_tensor(tensor: torch.Tensor) -> torch.Tensor:\n",
    "    \"\"\"\n",
    "    Standardize a tensor using per-channel mean and std.\n",
    "\n",
    "    Args:\n",
    "        tensor: Tensor of shape (N, C, H, W)\n",
    "        mean: Per-channel mean (C,)\n",
    "        std: Per-channel std (C,)\n",
    "\n",
    "    Returns:\n",
    "        Standardized tensor\n",
    "    \"\"\"\n",
    "    mean, std = compute_channel_stats(tensor_train)\n",
    "    return (tensor - mean[None, :, None, None]) / std[None, :, None, None]\n"
   ]
  },
  {
   "cell_type": "code",
   "execution_count": 300,
   "id": "d584e1b61e015747",
   "metadata": {
    "ExecuteTime": {
     "end_time": "2025-05-10T03:39:32.523629Z",
     "start_time": "2025-05-10T03:39:21.158863Z"
    },
    "collapsed": false
   },
   "outputs": [],
   "source": [
    "# TODO: 5. Per-channel standardization of the dataset using training set statistics (mean and std computed independently for each color channel).\n",
    "\n",
    "train_mean, train_std = compute_channel_stats(tensor_train)\n",
    "\n",
    "\n",
    "tensor_train = standardize_tensor(tensor_train)\n",
    "tensor_val = standardize_tensor(tensor_val)\n",
    "tensor_test = standardize_tensor(tensor_test)"
   ]
  },
  {
   "cell_type": "code",
   "execution_count": 301,
   "id": "97b24211",
   "metadata": {},
   "outputs": [],
   "source": [
    "def map_labels(tensor: torch.Tensor, image_labels: List[np.ndarray]) -> dict:\n",
    "    \"\"\"\n",
    "    Create a mapping from each unique label to the list of indices where that label occurs.\n",
    "\n",
    "    Args:\n",
    "        tensor: A PyTorch tensor representing the dataset (not used inside function, \n",
    "                but included for context or possible future extension).\n",
    "        image_labels: List of labels corresponding to each image in the dataset.\n",
    "\n",
    "    Returns:\n",
    "        index_map: Dictionary mapping each unique label to a list of indices in \n",
    "                   `image_labels` where that label is found.\n",
    "\n",
    "    Example:\n",
    "        image_labels = ['cat', 'dog', 'cat', 'bird']\n",
    "        output = {'cat': [0, 2], 'dog': [1], 'bird': [3]}\n",
    "    \"\"\"\n",
    "    index_map = {}  # Initialize empty dictionary\n",
    "\n",
    "    # Iterate over all labels by their index\n",
    "    for i in range(len(image_labels)):\n",
    "        label = image_labels[i]\n",
    "        \n",
    "        if label in index_map:\n",
    "            index_map[label].append(i)  # Append index if label key exists\n",
    "        else:\n",
    "            index_map[label] = [i]      # Create new list if first occurrence\n",
    "    \n",
    "    return index_map\n"
   ]
  },
  {
   "cell_type": "code",
   "execution_count": 302,
   "id": "9f7a684ba9e6561c",
   "metadata": {
    "ExecuteTime": {
     "end_time": "2025-05-10T03:39:41.944582Z",
     "start_time": "2025-05-10T03:39:32.524747Z"
    },
    "collapsed": false
   },
   "outputs": [],
   "source": [
    "# TODO: 6. Save the pre-processed sets as .pt files.\n",
    "\n",
    "# 6.1 Save the tensor_train, tensor_val, and tensor_test as tensor_train.pt, tensor_val.pt, and tensor_test.pt, respectively.\n",
    "\n",
    "torch.save(tensor_train, \"tensor_train.pt\")\n",
    "torch.save(tensor_val, \"tensor_val.pt\")\n",
    "torch.save(tensor_test, \"tensor_test.pt\")\n",
    "\n",
    "\n"
   ]
  },
  {
   "cell_type": "code",
   "execution_count": 303,
   "id": "3146a543",
   "metadata": {},
   "outputs": [],
   "source": [
    "\n",
    "# 6.2 Create a list to map index to label and a dictionary to map label to index.\n",
    "#   For instance:\n",
    "#       unique_labels = ['african_elephant', 'airliner', ...]\n",
    "#       label_to_index = {\n",
    "#           'african_elephant': 0,\n",
    "#           'airliner': 1,\n",
    "#           ...\n",
    "#       }\n",
    "\n",
    "unique_labels = np.unique(labels_train)\n",
    "\n",
    "train_labels_index = map_labels(tensor_train, labels_train)\n",
    "val_labels_index = map_labels(tensor_val, labels_val)\n",
    "\n",
    "# 6.3 Map the labels to index.\n",
    "\n",
    "label_to_index = {label: idx for idx, label in enumerate(unique_labels)}\n",
    "\n",
    "labels_train_index = torch.tensor([label_to_index[label] for label in labels_train])\n",
    "labels_val_index = torch.tensor([label_to_index[label] for label in labels_val])\n",
    "\n",
    "# 6.4 Save the index, label_to_index, and index_to_label.\n",
    "\n",
    "torch.save(labels_train_index, \"labels_train_index.pt\")\n",
    "torch.save(labels_val_index, \"labels_val_index.pt\")\n",
    "\n",
    "torch.save(train_labels_index, \"train_labels_index.pt\")\n",
    "torch.save(labels_val_index, \"labels_val_index.pt\")\n"
   ]
  },
  {
   "cell_type": "code",
   "execution_count": 304,
   "id": "a3a5a646027a826",
   "metadata": {
    "ExecuteTime": {
     "end_time": "2025-05-10T03:39:45.192760Z",
     "start_time": "2025-05-10T03:39:41.946771Z"
    },
    "collapsed": false
   },
   "outputs": [
    {
     "name": "stderr",
     "output_type": "stream",
     "text": [
      "C:\\Users\\GGPC\\AppData\\Local\\Temp\\ipykernel_67748\\295508795.py:3: FutureWarning: You are using `torch.load` with `weights_only=False` (the current default value), which uses the default pickle module implicitly. It is possible to construct malicious pickle data which will execute arbitrary code during unpickling (See https://github.com/pytorch/pytorch/blob/main/SECURITY.md#untrusted-models for more details). In a future release, the default value for `weights_only` will be flipped to `True`. This limits the functions that could be executed during unpickling. Arbitrary objects will no longer be allowed to be loaded via this mode unless they are explicitly allowlisted by the user via `torch.serialization.add_safe_globals`. We recommend you start setting `weights_only=True` for any use case where you don't have full control of the loaded file. Please open an issue on GitHub for any issues related to this experimental feature.\n",
      "  tensor_train = torch.load(\"tensor_train.pt\")\n",
      "C:\\Users\\GGPC\\AppData\\Local\\Temp\\ipykernel_67748\\295508795.py:4: FutureWarning: You are using `torch.load` with `weights_only=False` (the current default value), which uses the default pickle module implicitly. It is possible to construct malicious pickle data which will execute arbitrary code during unpickling (See https://github.com/pytorch/pytorch/blob/main/SECURITY.md#untrusted-models for more details). In a future release, the default value for `weights_only` will be flipped to `True`. This limits the functions that could be executed during unpickling. Arbitrary objects will no longer be allowed to be loaded via this mode unless they are explicitly allowlisted by the user via `torch.serialization.add_safe_globals`. We recommend you start setting `weights_only=True` for any use case where you don't have full control of the loaded file. Please open an issue on GitHub for any issues related to this experimental feature.\n",
      "  tensor_val = torch.load(\"tensor_val.pt\")\n",
      "C:\\Users\\GGPC\\AppData\\Local\\Temp\\ipykernel_67748\\295508795.py:5: FutureWarning: You are using `torch.load` with `weights_only=False` (the current default value), which uses the default pickle module implicitly. It is possible to construct malicious pickle data which will execute arbitrary code during unpickling (See https://github.com/pytorch/pytorch/blob/main/SECURITY.md#untrusted-models for more details). In a future release, the default value for `weights_only` will be flipped to `True`. This limits the functions that could be executed during unpickling. Arbitrary objects will no longer be allowed to be loaded via this mode unless they are explicitly allowlisted by the user via `torch.serialization.add_safe_globals`. We recommend you start setting `weights_only=True` for any use case where you don't have full control of the loaded file. Please open an issue on GitHub for any issues related to this experimental feature.\n",
      "  tensor_test = torch.load(\"tensor_test.pt\")\n",
      "C:\\Users\\GGPC\\AppData\\Local\\Temp\\ipykernel_67748\\295508795.py:7: FutureWarning: You are using `torch.load` with `weights_only=False` (the current default value), which uses the default pickle module implicitly. It is possible to construct malicious pickle data which will execute arbitrary code during unpickling (See https://github.com/pytorch/pytorch/blob/main/SECURITY.md#untrusted-models for more details). In a future release, the default value for `weights_only` will be flipped to `True`. This limits the functions that could be executed during unpickling. Arbitrary objects will no longer be allowed to be loaded via this mode unless they are explicitly allowlisted by the user via `torch.serialization.add_safe_globals`. We recommend you start setting `weights_only=True` for any use case where you don't have full control of the loaded file. Please open an issue on GitHub for any issues related to this experimental feature.\n",
      "  labels_train_index = torch.load(\"labels_train_index.pt\")\n",
      "C:\\Users\\GGPC\\AppData\\Local\\Temp\\ipykernel_67748\\295508795.py:8: FutureWarning: You are using `torch.load` with `weights_only=False` (the current default value), which uses the default pickle module implicitly. It is possible to construct malicious pickle data which will execute arbitrary code during unpickling (See https://github.com/pytorch/pytorch/blob/main/SECURITY.md#untrusted-models for more details). In a future release, the default value for `weights_only` will be flipped to `True`. This limits the functions that could be executed during unpickling. Arbitrary objects will no longer be allowed to be loaded via this mode unless they are explicitly allowlisted by the user via `torch.serialization.add_safe_globals`. We recommend you start setting `weights_only=True` for any use case where you don't have full control of the loaded file. Please open an issue on GitHub for any issues related to this experimental feature.\n",
      "  labels_val_index = torch.load(\"labels_val_index.pt\")\n"
     ]
    }
   ],
   "source": [
    "# TODO: 7. Load the pre-processed sets from .pt files. The data can be used directly in future without pre-processing once more by loading from the folder.\n",
    "\n",
    "tensor_train = torch.load(\"tensor_train.pt\")\n",
    "tensor_val = torch.load(\"tensor_val.pt\")\n",
    "tensor_test = torch.load(\"tensor_test.pt\")\n",
    "\n",
    "labels_train_index = torch.load(\"labels_train_index.pt\")\n",
    "labels_val_index = torch.load(\"labels_val_index.pt\")"
   ]
  },
  {
   "cell_type": "markdown",
   "id": "f5cb7cfa317410ff",
   "metadata": {
    "collapsed": false
   },
   "source": [
    "# Step 2 Train the teacher model (ResNet34)\n",
    "1. Set hyperparameters for the training process.\n",
    "2. Create a pretrained ResNet34.\n",
    "3. Define the optimizer, loss function, etc.\n",
    "4. Train ResNet34 and save the best-performing parameters to 'resnet34_checkpoint.pkl'.\n",
    "5. Plot the loss and accuracy curves."
   ]
  },
  {
   "cell_type": "code",
   "execution_count": 305,
   "id": "745979a1b12465eb",
   "metadata": {
    "ExecuteTime": {
     "end_time": "2025-05-10T01:43:51.705549Z",
     "start_time": "2025-05-10T01:43:51.663106Z"
    },
    "collapsed": false
   },
   "outputs": [
    {
     "name": "stdout",
     "output_type": "stream",
     "text": [
      "tensor(10)\n",
      "torch.Size([7800, 3, 224, 224])\n",
      "torch.Size([2600, 3, 224, 224])\n",
      "torch.Size([2600, 3, 224, 224])\n",
      "torch.Size([7800])\n",
      "torch.Size([2600])\n"
     ]
    }
   ],
   "source": [
    "# Verify data shapes\n",
    "\n",
    "num_classes = max(labels_train_index) + 1\n",
    "print(num_classes)\n",
    "print(tensor_train.shape)\n",
    "print(tensor_val.shape)\n",
    "print(tensor_test.shape)\n",
    "print(labels_train_index.shape)\n",
    "print(labels_val_index.shape)"
   ]
  },
  {
   "cell_type": "code",
   "execution_count": 306,
   "id": "507aa43e1a3701b5",
   "metadata": {
    "ExecuteTime": {
     "end_time": "2025-05-10T01:43:52.604546Z",
     "start_time": "2025-05-10T01:43:52.600245Z"
    },
    "collapsed": false
   },
   "outputs": [],
   "source": [
    "# TODO: 1. Set hyperparameters for the training process.\n",
    "\n",
    "MAX_EPOCH = 32\n",
    "INIT_LR = 1e-5      \n",
    "BATCH_SIZE = 128\n",
    "\n",
    "# Specify the training device (automatically detects GPU if available)\n",
    "# Usage example: \n",
    "#   tensor = tensor.to(device)  # Moves tensor to selected device\n",
    "device = torch.device(\"cuda\" if torch.cuda.is_available() else \"cpu\")\n"
   ]
  },
  {
   "cell_type": "code",
   "execution_count": 307,
   "id": "c8b9bf9ed5ae5cf9",
   "metadata": {
    "ExecuteTime": {
     "end_time": "2025-05-10T01:43:55.541802Z",
     "start_time": "2025-05-10T01:43:55.291383Z"
    },
    "collapsed": false
   },
   "outputs": [
    {
     "name": "stderr",
     "output_type": "stream",
     "text": [
      "c:\\Users\\GGPC\\anaconda3\\envs\\MSA\\lib\\site-packages\\torchvision\\models\\_utils.py:208: UserWarning: The parameter 'pretrained' is deprecated since 0.13 and may be removed in the future, please use 'weights' instead.\n",
      "  warnings.warn(\n",
      "c:\\Users\\GGPC\\anaconda3\\envs\\MSA\\lib\\site-packages\\torchvision\\models\\_utils.py:223: UserWarning: Arguments other than a weight enum or `None` for 'weights' are deprecated since 0.13 and may be removed in the future. The current behavior is equivalent to passing `weights=ResNet34_Weights.IMAGENET1K_V1`. You can also use `weights=ResNet34_Weights.DEFAULT` to get the most up-to-date weights.\n",
      "  warnings.warn(msg)\n"
     ]
    }
   ],
   "source": [
    "# TODO: 2. Create a pretrained ResNet34.\n",
    "\n",
    "resnet34 = torchvision.models.resnet34(pretrained=True)\n",
    "num_classes = 10\n",
    "resnet34.fc = nn.Linear(resnet34.fc.in_features, num_classes)\n",
    "resnet34 = resnet34.to(device)\n"
   ]
  },
  {
   "cell_type": "code",
   "execution_count": 308,
   "id": "70de5ac59beb12d",
   "metadata": {
    "ExecuteTime": {
     "end_time": "2025-05-10T01:43:56.555839Z",
     "start_time": "2025-05-10T01:43:56.542721Z"
    },
    "collapsed": false
   },
   "outputs": [
    {
     "name": "stderr",
     "output_type": "stream",
     "text": [
      "c:\\Users\\GGPC\\anaconda3\\envs\\MSA\\lib\\site-packages\\torch\\optim\\lr_scheduler.py:62: UserWarning: The verbose parameter is deprecated. Please use get_last_lr() to access the learning rate.\n",
      "  warnings.warn(\n"
     ]
    }
   ],
   "source": [
    "# TODO: 3. Define the optimizer, loss function, etc.\n",
    "\n",
    "optimizer = torch.optim.Adam(resnet34.parameters(), lr=INIT_LR, weight_decay=1e-4)\n",
    "criterion = nn.CrossEntropyLoss()\n",
    "scheduler = torch.optim.lr_scheduler.ReduceLROnPlateau(optimizer, mode='min', factor=0.5, patience=8, verbose=True, min_lr=1e-6)\n"
   ]
  },
  {
   "cell_type": "code",
   "execution_count": 309,
   "id": "557f0b48",
   "metadata": {},
   "outputs": [],
   "source": [
    "def random_horizontal_flip(batch, p=0.5):\n",
    "    \"\"\"\n",
    "    batch: tensor of shape [B, C, H, W]\n",
    "    p: probability of flipping each sample independently\n",
    "    \"\"\"\n",
    "    if p <= 0.0:\n",
    "        return batch\n",
    "    B = batch.size(0)\n",
    "    # one Bernoulli per sample\n",
    "    mask = torch.rand(B, device=batch.device) < p\n",
    "    if mask.any():\n",
    "        batch[mask] = torch.flip(batch[mask], dims=[3])  # flip width dimension\n",
    "    return batch\n"
   ]
  },
  {
   "cell_type": "code",
   "execution_count": 310,
   "id": "9795740c",
   "metadata": {},
   "outputs": [],
   "source": [
    "def random_crop_variable(batch, min_scale=0.8, max_scale=1.0):\n",
    "    \"\"\"\n",
    "    Randomly crops each image in the batch with a random size.\n",
    "    The crop size is a random fraction of the original size.\n",
    "    \n",
    "    min_scale: minimum fraction of original dimension to keep (e.g., 0.8)\n",
    "    max_scale: maximum fraction (<= 1.0)\n",
    "    \"\"\"\n",
    "    B, C, H, W = batch.shape\n",
    "    cropped = torch.empty_like(batch)\n",
    "\n",
    "    for i in range(B):\n",
    "        # Randomly select crop size as a fraction of H/W\n",
    "        scale = random.uniform(min_scale, max_scale)\n",
    "        crop_h = int(H * scale)\n",
    "        crop_w = int(W * scale)\n",
    "\n",
    "        # Randomly choose top-left corner\n",
    "        top = random.randint(0, H - crop_h)\n",
    "        left = random.randint(0, W - crop_w)\n",
    "\n",
    "        # Crop\n",
    "        cropped_img = batch[i, :, top:top + crop_h, left:left + crop_w]\n",
    "\n",
    "        # Resize back to original size\n",
    "        cropped[i] = F.interpolate(cropped_img.unsqueeze(0), size=(H, W), mode='bilinear', align_corners=False)\n",
    "\n",
    "    return cropped\n"
   ]
  },
  {
   "cell_type": "code",
   "execution_count": 311,
   "id": "3dc5fa76",
   "metadata": {},
   "outputs": [],
   "source": [
    "def random_color_jitter(batch, brightness=0.2, contrast=0.2):\n",
    "    \"\"\"\n",
    "    Apply random brightness and contrast adjustments to the batch.\n",
    "    brightness/contrast: max +/- percentage change (e.g., 0.2 = +/- 20%)\n",
    "    \"\"\"\n",
    "    B = batch.size(0)\n",
    "    for i in range(B):\n",
    "        img = batch[i]\n",
    "        # Brightness\n",
    "        if brightness > 0:\n",
    "            factor = 1.0 + random.uniform(-brightness, brightness)\n",
    "            img = img * factor\n",
    "        # Contrast\n",
    "        if contrast > 0:\n",
    "            mean = img.mean(dim=(1, 2), keepdim=True)\n",
    "            factor = 1.0 + random.uniform(-contrast, contrast)\n",
    "            img = (img - mean) * factor + mean\n",
    "        batch[i] = img.clamp(0, 1)  # keep values valid\n",
    "    return batch"
   ]
  },
  {
   "cell_type": "code",
   "execution_count": null,
   "id": "a2dbc4c7",
   "metadata": {},
   "outputs": [],
   "source": [
    "def random_grayscale(batch: torch.Tensor, p=0.3) -> torch.Tensor:\n",
    "\n",
    "\n",
    "    batch_out = batch.clone()\n",
    "    N = batch.size(0)\n",
    "    device = batch.device\n",
    "\n",
    "    mask = torch.rand(N, device=device) < p  # Boolean mask for which images to grayscale\n",
    "\n",
    "    if mask.any():\n",
    "        # Convert selected images to grayscale by weighted sum of RGB channels\n",
    "        rgb_weights = torch.tensor([0.2989, 0.5870, 0.1140], device=device).view(1, 3, 1, 1)\n",
    "        gray_images = (batch_out[mask] * rgb_weights).sum(dim=1, keepdim=True)  # shape: (#gray, 1, H, W)\n",
    "        batch_out[mask] = gray_images.repeat(1, 3, 1, 1)  # Repeat grayscale across all 3 channels\n",
    "\n",
    "    return batch_out"
   ]
  },
  {
   "cell_type": "code",
   "execution_count": null,
   "id": "65a797debcc531db",
   "metadata": {
    "collapsed": false
   },
   "outputs": [
    {
     "name": "stdout",
     "output_type": "stream",
     "text": [
      "Epoch 1/32 - Train Loss: 1.8298, Train Acc: 0.4174, Val Loss: 1.1184, Val Acc: 0.7662\n",
      "Epoch 2/32 - Train Loss: 1.0785, Train Acc: 0.7121, Val Loss: 0.5639, Val Acc: 0.8885\n",
      "Epoch 3/32 - Train Loss: 0.7936, Train Acc: 0.7773, Val Loss: 0.3721, Val Acc: 0.9215\n",
      "Epoch 4/32 - Train Loss: 0.6609, Train Acc: 0.8038, Val Loss: 0.2854, Val Acc: 0.9362\n",
      "Epoch 5/32 - Train Loss: 0.5728, Train Acc: 0.8282, Val Loss: 0.2415, Val Acc: 0.9454\n",
      "Epoch 6/32 - Train Loss: 0.5388, Train Acc: 0.8346, Val Loss: 0.2098, Val Acc: 0.9481\n",
      "Epoch 7/32 - Train Loss: 0.4962, Train Acc: 0.8468, Val Loss: 0.1843, Val Acc: 0.9546\n",
      "Epoch 8/32 - Train Loss: 0.4666, Train Acc: 0.8562, Val Loss: 0.1758, Val Acc: 0.9562\n",
      "Epoch 9/32 - Train Loss: 0.4440, Train Acc: 0.8595, Val Loss: 0.1689, Val Acc: 0.9542\n",
      "Epoch 10/32 - Train Loss: 0.4385, Train Acc: 0.8624, Val Loss: 0.1597, Val Acc: 0.9585\n",
      "Epoch 11/32 - Train Loss: 0.4129, Train Acc: 0.8691, Val Loss: 0.1628, Val Acc: 0.9604\n",
      "Epoch 12/32 - Train Loss: 0.4007, Train Acc: 0.8704, Val Loss: 0.1567, Val Acc: 0.9585\n",
      "Epoch 13/32 - Train Loss: 0.3911, Train Acc: 0.8740, Val Loss: 0.1476, Val Acc: 0.9588\n",
      "Epoch 14/32 - Train Loss: 0.3829, Train Acc: 0.8753, Val Loss: 0.1430, Val Acc: 0.9612\n",
      "Epoch 15/32 - Train Loss: 0.3739, Train Acc: 0.8817, Val Loss: 0.1420, Val Acc: 0.9588\n",
      "Epoch 16/32 - Train Loss: 0.3547, Train Acc: 0.8863, Val Loss: 0.1344, Val Acc: 0.9608\n",
      "Epoch 17/32 - Train Loss: 0.3633, Train Acc: 0.8840, Val Loss: 0.1346, Val Acc: 0.9604\n",
      "Epoch 18/32 - Train Loss: 0.3488, Train Acc: 0.8900, Val Loss: 0.1338, Val Acc: 0.9619\n",
      "Epoch 19/32 - Train Loss: 0.3462, Train Acc: 0.8891, Val Loss: 0.1344, Val Acc: 0.9604\n",
      "Epoch 20/32 - Train Loss: 0.3226, Train Acc: 0.8969, Val Loss: 0.1301, Val Acc: 0.9623\n",
      "Epoch 21/32 - Train Loss: 0.3305, Train Acc: 0.8924, Val Loss: 0.1247, Val Acc: 0.9615\n",
      "Epoch 22/32 - Train Loss: 0.3164, Train Acc: 0.8967, Val Loss: 0.1245, Val Acc: 0.9635\n",
      "Epoch 23/32 - Train Loss: 0.3270, Train Acc: 0.8938, Val Loss: 0.1323, Val Acc: 0.9612\n",
      "Epoch 24/32 - Train Loss: 0.3145, Train Acc: 0.8951, Val Loss: 0.1297, Val Acc: 0.9615\n",
      "Epoch 25/32 - Train Loss: 0.3196, Train Acc: 0.8973, Val Loss: 0.1284, Val Acc: 0.9604\n",
      "Epoch 26/32 - Train Loss: 0.3070, Train Acc: 0.8976, Val Loss: 0.1266, Val Acc: 0.9619\n",
      "Epoch 27/32 - Train Loss: 0.3132, Train Acc: 0.9000, Val Loss: 0.1295, Val Acc: 0.9615\n",
      "Epoch 28/32 - Train Loss: 0.2937, Train Acc: 0.9060, Val Loss: 0.1330, Val Acc: 0.9608\n",
      "Epoch 29/32 - Train Loss: 0.2991, Train Acc: 0.9028, Val Loss: 0.1360, Val Acc: 0.9588\n",
      "Epoch 30/32 - Train Loss: 0.3000, Train Acc: 0.9065, Val Loss: 0.1355, Val Acc: 0.9592\n",
      "Epoch 31/32 - Train Loss: 0.2827, Train Acc: 0.9092, Val Loss: 0.1171, Val Acc: 0.9638\n",
      "Epoch 32/32 - Train Loss: 0.2853, Train Acc: 0.9062, Val Loss: 0.1351, Val Acc: 0.9615\n"
     ]
    }
   ],
   "source": [
    "from torch.utils.data import TensorDataset, DataLoader\n",
    "train_dataset = TensorDataset(tensor_train, labels_train_index)\n",
    "val_dataset = TensorDataset(tensor_val, labels_val_index)\n",
    "\n",
    "train_loader = DataLoader(train_dataset, batch_size=BATCH_SIZE, shuffle=True)\n",
    "val_loader = DataLoader(val_dataset, batch_size=BATCH_SIZE, shuffle=False)\n",
    "\n",
    "# ImageNet normalization values\n",
    "imagenet_mean = torch.tensor([0.485, 0.456, 0.406], device=device)\n",
    "imagenet_std = torch.tensor([0.229, 0.224, 0.225], device=device)\n",
    "\n",
    "def normalize(tensor):\n",
    "    return (tensor - imagenet_mean[None, :, None, None]) / imagenet_std[None, :, None, None]\n",
    "\n",
    "\n",
    "best_val_acc = 0.0\n",
    "train_accs_resnet34, train_losses_resnet34 = [], []\n",
    "val_accs_resnet34, val_losses_resnet34 = [], []\n",
    "\n",
    "for epoch in range(MAX_EPOCH):\n",
    "    # Training phase\n",
    "    resnet34.train()\n",
    "    running_loss = 0.0\n",
    "    correct = 0\n",
    "    total = 0\n",
    "\n",
    "    for inputs, labels in train_loader:\n",
    "        inputs, labels = inputs.to(device), labels.to(device)\n",
    "\n",
    "        # Apply augmentations ONLY on training data\n",
    "        inputs = random_horizontal_flip(inputs, p=0.5)\n",
    "        inputs = random_crop_variable(inputs, min_scale=0.2, max_scale=1.0)\n",
    "        inputs = random_color_jitter(inputs, brightness=0.1, contrast=0.1)   \n",
    "        inputs = random_grayscale(inputs, p=0.2)\n",
    "\n",
    "        # Normalize inputs\n",
    "        inputs = normalize(inputs)\n",
    "\n",
    "        optimizer.zero_grad()\n",
    "        outputs = resnet34(inputs)\n",
    "        loss = criterion(outputs, labels)\n",
    "        loss.backward()\n",
    "        optimizer.step()\n",
    "\n",
    "        running_loss += loss.item() * inputs.size(0)\n",
    "        _, predicted = torch.max(outputs, 1)\n",
    "        total += labels.size(0)\n",
    "        correct += (predicted == labels).sum().item()\n",
    "\n",
    "    train_loss = running_loss / total\n",
    "    train_acc = correct / total\n",
    "\n",
    "    # Validation phase (no augmentation, just normalize)\n",
    "    resnet34.eval()\n",
    "    val_loss = 0.0\n",
    "    val_correct = 0\n",
    "    val_total = 0\n",
    "\n",
    "    with torch.no_grad():\n",
    "        for inputs, labels in val_loader:\n",
    "            inputs, labels = inputs.to(device), labels.to(device)\n",
    "            inputs = normalize(inputs)\n",
    "\n",
    "            outputs = resnet34(inputs)\n",
    "            loss = criterion(outputs, labels)\n",
    "\n",
    "            val_loss += loss.item() * inputs.size(0)\n",
    "            _, predicted = torch.max(outputs, 1)\n",
    "            val_total += labels.size(0)\n",
    "            val_correct += (predicted == labels).sum().item()\n",
    "\n",
    "    val_loss /= val_total\n",
    "    val_acc = val_correct / val_total\n",
    "\n",
    "    # Step LR scheduler based on validation loss\n",
    "    scheduler.step(val_loss)\n",
    "\n",
    "    train_accs_resnet34.append(train_acc)\n",
    "    train_losses_resnet34.append(train_loss)\n",
    "    val_accs_resnet34.append(val_acc)\n",
    "    val_losses_resnet34.append(val_loss)\n",
    "\n",
    "    print(f\"Epoch {epoch+1}/{MAX_EPOCH} - \"\n",
    "          f\"Train Loss: {train_loss:.4f}, Train Acc: {train_acc:.4f}, \"\n",
    "          f\"Val Loss: {val_loss:.4f}, Val Acc: {val_acc:.4f}\")\n",
    "\n",
    "    # Save best model parameters\n",
    "    if val_acc > best_val_acc:\n",
    "        best_val_acc = val_acc\n",
    "        torch.save(resnet34.state_dict(), \"resnet34_checkpoint.pkl\")"
   ]
  },
  {
   "cell_type": "code",
   "execution_count": 314,
   "id": "bb5a3089891cf4a3",
   "metadata": {
    "collapsed": false
   },
   "outputs": [
    {
     "data": {
      "image/png": "[encoded data removed]",
      "text/plain": [
       "<Figure size 1200x500 with 1 Axes>"
      ]
     },
     "metadata": {},
     "output_type": "display_data"
    }
   ],
   "source": [
    "# TODO: 5. Plot the loss and accuracy curves.\n",
    "\n",
    "epochs = range(1, MAX_EPOCH + 1)\n",
    "\n",
    "plt.figure(figsize=(12, 5))\n",
    "\n",
    "# Plot Loss\n",
    "plt.subplot(1, 2, 1)\n",
    "plt.plot(epochs, train_losses_resnet34, label='Train Loss')\n",
    "plt.plot(epochs, val_losses_resnet34, label='Validation Loss')\n",
    "plt.xlabel('Epoch')\n",
    "plt.ylabel('Loss')\n",
    "plt.title('Loss Curves')\n",
    "plt.legend()\n",
    "plt.grid(True)\n",
    "\n",
    "plt.show()\n"
   ]
  },
  {
   "cell_type": "code",
   "execution_count": 315,
   "id": "79c7709b",
   "metadata": {},
   "outputs": [
    {
     "data": {
      "image/png": "[encoded data removed]",
      "text/plain": [
       "<Figure size 640x480 with 1 Axes>"
      ]
     },
     "metadata": {},
     "output_type": "display_data"
    }
   ],
   "source": [
    "\n",
    "# Plot Accuracy\n",
    "plt.subplot(1, 2, 2)\n",
    "plt.plot(epochs, train_accs_resnet34, label='Train Accuracy')\n",
    "plt.plot(epochs, val_accs_resnet34, label='Validation Accuracy')\n",
    "plt.xlabel('Epoch')\n",
    "plt.ylabel('Accuracy')\n",
    "plt.title('Accuracy Curves')\n",
    "plt.legend()\n",
    "plt.grid(True)\n",
    "\n",
    "plt.show()"
   ]
  },
  {
   "cell_type": "markdown",
   "id": "897fa4102b57deab",
   "metadata": {
    "collapsed": false
   },
   "source": [
    "# Step 3 Train the student model (ResNet18)\n",
    "1. Set hyperparameters for the distillation process.\n",
    "2. Create a NON-PRETRAINED ResNet18 and move the model to selected device.\n",
    "3. Load the saved ResNet34 and move the model to selected device.\n",
    "4. Define the optimizer, loss function, etc.\n",
    "5. Train ResNet18 and save the best-performing parameters to 'resnet18_checkpoint.pkl'.\n",
    "6. Plot the loss and accuracy curves."
   ]
  },
  {
   "cell_type": "code",
   "execution_count": null,
   "id": "68482456ab9410f8",
   "metadata": {
    "ExecuteTime": {
     "end_time": "2025-05-10T01:57:38.370616Z",
     "start_time": "2025-05-10T01:57:38.341026Z"
    },
    "collapsed": false
   },
   "outputs": [
    {
     "name": "stdout",
     "output_type": "stream",
     "text": [
      "Using device: cuda\n"
     ]
    }
   ],
   "source": [
    "\n",
    "MAX_EPOCH = 64       # Number of epochs\n",
    "INIT_LR = 0.0001      # Learning rate\n",
    "BATCH_SIZE = 32       # Batch size\n",
    "TEMPERATURE = 3.0     # Temperature for distillation\n",
    "LOSS_RATIO = 0.5      # Ratio between distillation loss and classification loss\n",
    "\n",
    "device = torch.device(\"cuda\" if torch.cuda.is_available() else \"cpu\")\n",
    "print(f\"Using device: {device}\")\n"
   ]
  },
  {
   "cell_type": "code",
   "execution_count": null,
   "id": "eacd9adc",
   "metadata": {},
   "outputs": [
    {
     "name": "stdout",
     "output_type": "stream",
     "text": [
      "Linear(in_features=512, out_features=10, bias=True)\n",
      "Total params: 11.18M | Trainable: 11.18M\n",
      "Model is on: cuda:0\n"
     ]
    }
   ],
   "source": [
    "\n",
    "\n",
    "student = torchvision.models.resnet18(weights=None)  # Non-pretrained\n",
    "student.fc = nn.Linear(student.fc.in_features, num_classes)\n",
    "student = student.to(device)\n",
    "\n",
    "# (optional) quick check\n",
    "num_params = sum(p.numel() for p in student.parameters())\n",
    "num_trainable = sum(p.numel() for p in student.parameters() if p.requires_grad)\n",
    "print(student.fc)\n",
    "print(f\"Total params: {num_params/1e6:.2f}M | Trainable: {num_trainable/1e6:.2f}M\")\n",
    "print(f\"Model is on: {next(student.parameters()).device}\")\n"
   ]
  },
  {
   "cell_type": "code",
   "execution_count": null,
   "id": "eaf5907f",
   "metadata": {},
   "outputs": [
    {
     "name": "stderr",
     "output_type": "stream",
     "text": [
      "c:\\Users\\GGPC\\anaconda3\\envs\\MSA\\lib\\site-packages\\torchvision\\models\\_utils.py:223: UserWarning: Arguments other than a weight enum or `None` for 'weights' are deprecated since 0.13 and may be removed in the future. The current behavior is equivalent to passing `weights=None`.\n",
      "  warnings.warn(msg)\n",
      "C:\\Users\\GGPC\\AppData\\Local\\Temp\\ipykernel_67748\\2738683686.py:9: FutureWarning: You are using `torch.load` with `weights_only=False` (the current default value), which uses the default pickle module implicitly. It is possible to construct malicious pickle data which will execute arbitrary code during unpickling (See https://github.com/pytorch/pytorch/blob/main/SECURITY.md#untrusted-models for more details). In a future release, the default value for `weights_only` will be flipped to `True`. This limits the functions that could be executed during unpickling. Arbitrary objects will no longer be allowed to be loaded via this mode unless they are explicitly allowlisted by the user via `torch.serialization.add_safe_globals`. We recommend you start setting `weights_only=True` for any use case where you don't have full control of the loaded file. Please open an issue on GitHub for any issues related to this experimental feature.\n",
      "  resnet34.load_state_dict(torch.load(\"resnet34_checkpoint.pkl\", map_location=device))\n"
     ]
    },
    {
     "data": {
      "text/plain": [
       "ResNet(\n",
       "  (conv1): Conv2d(3, 64, kernel_size=(7, 7), stride=(2, 2), padding=(3, 3), bias=False)\n",
       "  (bn1): BatchNorm2d(64, eps=1e-05, momentum=0.1, affine=True, track_running_stats=True)\n",
       "  (relu): ReLU(inplace=True)\n",
       "  (maxpool): MaxPool2d(kernel_size=3, stride=2, padding=1, dilation=1, ceil_mode=False)\n",
       "  (layer1): Sequential(\n",
       "    (0): BasicBlock(\n",
       "      (conv1): Conv2d(64, 64, kernel_size=(3, 3), stride=(1, 1), padding=(1, 1), bias=False)\n",
       "      (bn1): BatchNorm2d(64, eps=1e-05, momentum=0.1, affine=True, track_running_stats=True)\n",
       "      (relu): ReLU(inplace=True)\n",
       "      (conv2): Conv2d(64, 64, kernel_size=(3, 3), stride=(1, 1), padding=(1, 1), bias=False)\n",
       "      (bn2): BatchNorm2d(64, eps=1e-05, momentum=0.1, affine=True, track_running_stats=True)\n",
       "    )\n",
       "    (1): BasicBlock(\n",
       "      (conv1): Conv2d(64, 64, kernel_size=(3, 3), stride=(1, 1), padding=(1, 1), bias=False)\n",
       "      (bn1): BatchNorm2d(64, eps=1e-05, momentum=0.1, affine=True, track_running_stats=True)\n",
       "      (relu): ReLU(inplace=True)\n",
       "      (conv2): Conv2d(64, 64, kernel_size=(3, 3), stride=(1, 1), padding=(1, 1), bias=False)\n",
       "      (bn2): BatchNorm2d(64, eps=1e-05, momentum=0.1, affine=True, track_running_stats=True)\n",
       "    )\n",
       "    (2): BasicBlock(\n",
       "      (conv1): Conv2d(64, 64, kernel_size=(3, 3), stride=(1, 1), padding=(1, 1), bias=False)\n",
       "      (bn1): BatchNorm2d(64, eps=1e-05, momentum=0.1, affine=True, track_running_stats=True)\n",
       "      (relu): ReLU(inplace=True)\n",
       "      (conv2): Conv2d(64, 64, kernel_size=(3, 3), stride=(1, 1), padding=(1, 1), bias=False)\n",
       "      (bn2): BatchNorm2d(64, eps=1e-05, momentum=0.1, affine=True, track_running_stats=True)\n",
       "    )\n",
       "  )\n",
       "  (layer2): Sequential(\n",
       "    (0): BasicBlock(\n",
       "      (conv1): Conv2d(64, 128, kernel_size=(3, 3), stride=(2, 2), padding=(1, 1), bias=False)\n",
       "      (bn1): BatchNorm2d(128, eps=1e-05, momentum=0.1, affine=True, track_running_stats=True)\n",
       "      (relu): ReLU(inplace=True)\n",
       "      (conv2): Conv2d(128, 128, kernel_size=(3, 3), stride=(1, 1), padding=(1, 1), bias=False)\n",
       "      (bn2): BatchNorm2d(128, eps=1e-05, momentum=0.1, affine=True, track_running_stats=True)\n",
       "      (downsample): Sequential(\n",
       "        (0): Conv2d(64, 128, kernel_size=(1, 1), stride=(2, 2), bias=False)\n",
       "        (1): BatchNorm2d(128, eps=1e-05, momentum=0.1, affine=True, track_running_stats=True)\n",
       "      )\n",
       "    )\n",
       "    (1): BasicBlock(\n",
       "      (conv1): Conv2d(128, 128, kernel_size=(3, 3), stride=(1, 1), padding=(1, 1), bias=False)\n",
       "      (bn1): BatchNorm2d(128, eps=1e-05, momentum=0.1, affine=True, track_running_stats=True)\n",
       "      (relu): ReLU(inplace=True)\n",
       "      (conv2): Conv2d(128, 128, kernel_size=(3, 3), stride=(1, 1), padding=(1, 1), bias=False)\n",
       "      (bn2): BatchNorm2d(128, eps=1e-05, momentum=0.1, affine=True, track_running_stats=True)\n",
       "    )\n",
       "    (2): BasicBlock(\n",
       "      (conv1): Conv2d(128, 128, kernel_size=(3, 3), stride=(1, 1), padding=(1, 1), bias=False)\n",
       "      (bn1): BatchNorm2d(128, eps=1e-05, momentum=0.1, affine=True, track_running_stats=True)\n",
       "      (relu): ReLU(inplace=True)\n",
       "      (conv2): Conv2d(128, 128, kernel_size=(3, 3), stride=(1, 1), padding=(1, 1), bias=False)\n",
       "      (bn2): BatchNorm2d(128, eps=1e-05, momentum=0.1, affine=True, track_running_stats=True)\n",
       "    )\n",
       "    (3): BasicBlock(\n",
       "      (conv1): Conv2d(128, 128, kernel_size=(3, 3), stride=(1, 1), padding=(1, 1), bias=False)\n",
       "      (bn1): BatchNorm2d(128, eps=1e-05, momentum=0.1, affine=True, track_running_stats=True)\n",
       "      (relu): ReLU(inplace=True)\n",
       "      (conv2): Conv2d(128, 128, kernel_size=(3, 3), stride=(1, 1), padding=(1, 1), bias=False)\n",
       "      (bn2): BatchNorm2d(128, eps=1e-05, momentum=0.1, affine=True, track_running_stats=True)\n",
       "    )\n",
       "  )\n",
       "  (layer3): Sequential(\n",
       "    (0): BasicBlock(\n",
       "      (conv1): Conv2d(128, 256, kernel_size=(3, 3), stride=(2, 2), padding=(1, 1), bias=False)\n",
       "      (bn1): BatchNorm2d(256, eps=1e-05, momentum=0.1, affine=True, track_running_stats=True)\n",
       "      (relu): ReLU(inplace=True)\n",
       "      (conv2): Conv2d(256, 256, kernel_size=(3, 3), stride=(1, 1), padding=(1, 1), bias=False)\n",
       "      (bn2): BatchNorm2d(256, eps=1e-05, momentum=0.1, affine=True, track_running_stats=True)\n",
       "      (downsample): Sequential(\n",
       "        (0): Conv2d(128, 256, kernel_size=(1, 1), stride=(2, 2), bias=False)\n",
       "        (1): BatchNorm2d(256, eps=1e-05, momentum=0.1, affine=True, track_running_stats=True)\n",
       "      )\n",
       "    )\n",
       "    (1): BasicBlock(\n",
       "      (conv1): Conv2d(256, 256, kernel_size=(3, 3), stride=(1, 1), padding=(1, 1), bias=False)\n",
       "      (bn1): BatchNorm2d(256, eps=1e-05, momentum=0.1, affine=True, track_running_stats=True)\n",
       "      (relu): ReLU(inplace=True)\n",
       "      (conv2): Conv2d(256, 256, kernel_size=(3, 3), stride=(1, 1), padding=(1, 1), bias=False)\n",
       "      (bn2): BatchNorm2d(256, eps=1e-05, momentum=0.1, affine=True, track_running_stats=True)\n",
       "    )\n",
       "    (2): BasicBlock(\n",
       "      (conv1): Conv2d(256, 256, kernel_size=(3, 3), stride=(1, 1), padding=(1, 1), bias=False)\n",
       "      (bn1): BatchNorm2d(256, eps=1e-05, momentum=0.1, affine=True, track_running_stats=True)\n",
       "      (relu): ReLU(inplace=True)\n",
       "      (conv2): Conv2d(256, 256, kernel_size=(3, 3), stride=(1, 1), padding=(1, 1), bias=False)\n",
       "      (bn2): BatchNorm2d(256, eps=1e-05, momentum=0.1, affine=True, track_running_stats=True)\n",
       "    )\n",
       "    (3): BasicBlock(\n",
       "      (conv1): Conv2d(256, 256, kernel_size=(3, 3), stride=(1, 1), padding=(1, 1), bias=False)\n",
       "      (bn1): BatchNorm2d(256, eps=1e-05, momentum=0.1, affine=True, track_running_stats=True)\n",
       "      (relu): ReLU(inplace=True)\n",
       "      (conv2): Conv2d(256, 256, kernel_size=(3, 3), stride=(1, 1), padding=(1, 1), bias=False)\n",
       "      (bn2): BatchNorm2d(256, eps=1e-05, momentum=0.1, affine=True, track_running_stats=True)\n",
       "    )\n",
       "    (4): BasicBlock(\n",
       "      (conv1): Conv2d(256, 256, kernel_size=(3, 3), stride=(1, 1), padding=(1, 1), bias=False)\n",
       "      (bn1): BatchNorm2d(256, eps=1e-05, momentum=0.1, affine=True, track_running_stats=True)\n",
       "      (relu): ReLU(inplace=True)\n",
       "      (conv2): Conv2d(256, 256, kernel_size=(3, 3), stride=(1, 1), padding=(1, 1), bias=False)\n",
       "      (bn2): BatchNorm2d(256, eps=1e-05, momentum=0.1, affine=True, track_running_stats=True)\n",
       "    )\n",
       "    (5): BasicBlock(\n",
       "      (conv1): Conv2d(256, 256, kernel_size=(3, 3), stride=(1, 1), padding=(1, 1), bias=False)\n",
       "      (bn1): BatchNorm2d(256, eps=1e-05, momentum=0.1, affine=True, track_running_stats=True)\n",
       "      (relu): ReLU(inplace=True)\n",
       "      (conv2): Conv2d(256, 256, kernel_size=(3, 3), stride=(1, 1), padding=(1, 1), bias=False)\n",
       "      (bn2): BatchNorm2d(256, eps=1e-05, momentum=0.1, affine=True, track_running_stats=True)\n",
       "    )\n",
       "  )\n",
       "  (layer4): Sequential(\n",
       "    (0): BasicBlock(\n",
       "      (conv1): Conv2d(256, 512, kernel_size=(3, 3), stride=(2, 2), padding=(1, 1), bias=False)\n",
       "      (bn1): BatchNorm2d(512, eps=1e-05, momentum=0.1, affine=True, track_running_stats=True)\n",
       "      (relu): ReLU(inplace=True)\n",
       "      (conv2): Conv2d(512, 512, kernel_size=(3, 3), stride=(1, 1), padding=(1, 1), bias=False)\n",
       "      (bn2): BatchNorm2d(512, eps=1e-05, momentum=0.1, affine=True, track_running_stats=True)\n",
       "      (downsample): Sequential(\n",
       "        (0): Conv2d(256, 512, kernel_size=(1, 1), stride=(2, 2), bias=False)\n",
       "        (1): BatchNorm2d(512, eps=1e-05, momentum=0.1, affine=True, track_running_stats=True)\n",
       "      )\n",
       "    )\n",
       "    (1): BasicBlock(\n",
       "      (conv1): Conv2d(512, 512, kernel_size=(3, 3), stride=(1, 1), padding=(1, 1), bias=False)\n",
       "      (bn1): BatchNorm2d(512, eps=1e-05, momentum=0.1, affine=True, track_running_stats=True)\n",
       "      (relu): ReLU(inplace=True)\n",
       "      (conv2): Conv2d(512, 512, kernel_size=(3, 3), stride=(1, 1), padding=(1, 1), bias=False)\n",
       "      (bn2): BatchNorm2d(512, eps=1e-05, momentum=0.1, affine=True, track_running_stats=True)\n",
       "    )\n",
       "    (2): BasicBlock(\n",
       "      (conv1): Conv2d(512, 512, kernel_size=(3, 3), stride=(1, 1), padding=(1, 1), bias=False)\n",
       "      (bn1): BatchNorm2d(512, eps=1e-05, momentum=0.1, affine=True, track_running_stats=True)\n",
       "      (relu): ReLU(inplace=True)\n",
       "      (conv2): Conv2d(512, 512, kernel_size=(3, 3), stride=(1, 1), padding=(1, 1), bias=False)\n",
       "      (bn2): BatchNorm2d(512, eps=1e-05, momentum=0.1, affine=True, track_running_stats=True)\n",
       "    )\n",
       "  )\n",
       "  (avgpool): AdaptiveAvgPool2d(output_size=(1, 1))\n",
       "  (fc): Linear(in_features=512, out_features=10, bias=True)\n",
       ")"
      ]
     },
     "execution_count": 318,
     "metadata": {},
     "output_type": "execute_result"
    }
   ],
   "source": [
    "# TODO: 3. Load the saved ResNet34 and move the model to selected device.\n",
    "# Hint: Enable the evaluation mode to prevent updating the parameters.\n",
    "\n",
    "# Create ResNet34 architecture (must match the saved checkpoint)\n",
    "resnet34 = torchvision.models.resnet34(pretrained=False)\n",
    "resnet34.fc = nn.Linear(resnet34.fc.in_features, num_classes)\n",
    "\n",
    "# Load the trained weights from checkpoint\n",
    "resnet34.load_state_dict(torch.load(\"resnet34_checkpoint.pkl\", map_location=device))\n",
    "\n",
    "# Move to device and set to evaluation mode\n",
    "resnet34 = resnet34.to(device)\n",
    "resnet34.eval() \n"
   ]
  },
  {
   "cell_type": "code",
   "execution_count": null,
   "id": "bfa518a9",
   "metadata": {},
   "outputs": [
    {
     "name": "stdout",
     "output_type": "stream",
     "text": [
      "Optimizer and loss functions defined.\n"
     ]
    }
   ],
   "source": [
    "\n",
    "\n",
    "import torch.nn.functional as F\n",
    "# Optimizer for student\n",
    "optimizer = torch.optim.Adam(student.parameters(), lr=INIT_LR)\n",
    "\n",
    "# Standard classification loss\n",
    "criterion_ce = nn.CrossEntropyLoss()\n",
    "\n",
    "# KLDivLoss for distillation (student vs softened teacher outputs)\n",
    "criterion_kd = nn.KLDivLoss(reduction='batchmean')\n",
    "\n",
    "print(\"Optimizer and loss functions defined.\")\n"
   ]
  },
  {
   "cell_type": "code",
   "execution_count": 320,
   "id": "3f165187",
   "metadata": {},
   "outputs": [
    {
     "name": "stdout",
     "output_type": "stream",
     "text": [
      "Epoch 1/64 - Train Loss: 2.6382, Train Acc: 0.3731, Val Loss: 2.8895, Val Acc: 0.1992\n",
      "Epoch 2/64 - Train Loss: 2.0381, Train Acc: 0.5355, Val Loss: 3.0340, Val Acc: 0.2596\n",
      "Epoch 3/64 - Train Loss: 1.8246, Train Acc: 0.5896, Val Loss: 2.3008, Val Acc: 0.2608\n",
      "Epoch 4/64 - Train Loss: 1.6958, Train Acc: 0.6167, Val Loss: 2.5476, Val Acc: 0.3050\n",
      "Epoch 5/64 - Train Loss: 1.6013, Train Acc: 0.6335, Val Loss: 2.5501, Val Acc: 0.2665\n",
      "Epoch 6/64 - Train Loss: 1.5312, Train Acc: 0.6544, Val Loss: 2.4134, Val Acc: 0.3031\n",
      "Epoch 7/64 - Train Loss: 1.4700, Train Acc: 0.6654, Val Loss: 2.4951, Val Acc: 0.2846\n",
      "Epoch 8/64 - Train Loss: 1.4127, Train Acc: 0.6760, Val Loss: 1.9965, Val Acc: 0.3304\n",
      "Epoch 9/64 - Train Loss: 1.3754, Train Acc: 0.6901, Val Loss: 2.0355, Val Acc: 0.3692\n",
      "Epoch 10/64 - Train Loss: 1.3348, Train Acc: 0.6935, Val Loss: 2.3249, Val Acc: 0.2869\n",
      "Epoch 11/64 - Train Loss: 1.2923, Train Acc: 0.7045, Val Loss: 2.1540, Val Acc: 0.3262\n",
      "Epoch 12/64 - Train Loss: 1.2345, Train Acc: 0.7195, Val Loss: 2.2980, Val Acc: 0.3173\n",
      "Epoch 13/64 - Train Loss: 1.2285, Train Acc: 0.7173, Val Loss: 1.9452, Val Acc: 0.3812\n",
      "Epoch 14/64 - Train Loss: 1.2096, Train Acc: 0.7233, Val Loss: 2.2373, Val Acc: 0.3185\n",
      "Epoch 15/64 - Train Loss: 1.1822, Train Acc: 0.7315, Val Loss: 2.0572, Val Acc: 0.3638\n",
      "Epoch 16/64 - Train Loss: 1.1422, Train Acc: 0.7387, Val Loss: 1.8625, Val Acc: 0.3919\n",
      "Epoch 17/64 - Train Loss: 1.1447, Train Acc: 0.7404, Val Loss: 2.3720, Val Acc: 0.3204\n",
      "Epoch 18/64 - Train Loss: 1.1159, Train Acc: 0.7362, Val Loss: 2.1299, Val Acc: 0.2892\n",
      "Epoch 19/64 - Train Loss: 1.0748, Train Acc: 0.7483, Val Loss: 2.1309, Val Acc: 0.3500\n",
      "Epoch 20/64 - Train Loss: 1.0515, Train Acc: 0.7578, Val Loss: 1.7310, Val Acc: 0.4342\n",
      "Epoch 21/64 - Train Loss: 1.0341, Train Acc: 0.7594, Val Loss: 2.0261, Val Acc: 0.3362\n",
      "Epoch 22/64 - Train Loss: 1.0327, Train Acc: 0.7673, Val Loss: 1.8606, Val Acc: 0.4150\n",
      "Epoch 23/64 - Train Loss: 1.0008, Train Acc: 0.7688, Val Loss: 1.8813, Val Acc: 0.3781\n",
      "Epoch 24/64 - Train Loss: 0.9919, Train Acc: 0.7750, Val Loss: 1.9874, Val Acc: 0.3788\n",
      "Epoch 25/64 - Train Loss: 0.9892, Train Acc: 0.7749, Val Loss: 2.0995, Val Acc: 0.4181\n",
      "Epoch 26/64 - Train Loss: 0.9276, Train Acc: 0.7877, Val Loss: 1.7506, Val Acc: 0.4481\n",
      "Epoch 27/64 - Train Loss: 0.9371, Train Acc: 0.7819, Val Loss: 1.6906, Val Acc: 0.4758\n",
      "Epoch 28/64 - Train Loss: 0.9584, Train Acc: 0.7836, Val Loss: 1.7680, Val Acc: 0.4385\n",
      "Epoch 29/64 - Train Loss: 0.9005, Train Acc: 0.7982, Val Loss: 2.0778, Val Acc: 0.3927\n",
      "Epoch 30/64 - Train Loss: 0.9003, Train Acc: 0.7941, Val Loss: 1.8594, Val Acc: 0.4081\n",
      "Epoch 31/64 - Train Loss: 0.8967, Train Acc: 0.7886, Val Loss: 1.6917, Val Acc: 0.4550\n",
      "Epoch 32/64 - Train Loss: 0.8713, Train Acc: 0.7979, Val Loss: 1.5882, Val Acc: 0.4854\n",
      "Epoch 33/64 - Train Loss: 0.8769, Train Acc: 0.8091, Val Loss: 2.0180, Val Acc: 0.3785\n",
      "Epoch 34/64 - Train Loss: 0.8490, Train Acc: 0.8086, Val Loss: 2.0170, Val Acc: 0.4104\n",
      "Epoch 35/64 - Train Loss: 0.8510, Train Acc: 0.8069, Val Loss: 1.8503, Val Acc: 0.4331\n",
      "Epoch 36/64 - Train Loss: 0.8320, Train Acc: 0.8123, Val Loss: 1.9825, Val Acc: 0.3942\n",
      "Epoch 37/64 - Train Loss: 0.8302, Train Acc: 0.8114, Val Loss: 1.6678, Val Acc: 0.4985\n",
      "Epoch 38/64 - Train Loss: 0.8090, Train Acc: 0.8210, Val Loss: 1.7148, Val Acc: 0.4423\n",
      "Epoch 39/64 - Train Loss: 0.8052, Train Acc: 0.8172, Val Loss: 1.8744, Val Acc: 0.4538\n",
      "Epoch 40/64 - Train Loss: 0.8027, Train Acc: 0.8209, Val Loss: 1.8017, Val Acc: 0.4427\n",
      "Epoch 41/64 - Train Loss: 0.7755, Train Acc: 0.8299, Val Loss: 1.8207, Val Acc: 0.4208\n",
      "Epoch 42/64 - Train Loss: 0.7609, Train Acc: 0.8296, Val Loss: 2.0358, Val Acc: 0.3958\n",
      "Epoch 43/64 - Train Loss: 0.7600, Train Acc: 0.8351, Val Loss: 1.8273, Val Acc: 0.4569\n",
      "Epoch 44/64 - Train Loss: 0.7560, Train Acc: 0.8287, Val Loss: 1.7169, Val Acc: 0.4773\n",
      "Epoch 45/64 - Train Loss: 0.7712, Train Acc: 0.8222, Val Loss: 1.6357, Val Acc: 0.5012\n",
      "Epoch 46/64 - Train Loss: 0.7468, Train Acc: 0.8374, Val Loss: 1.8314, Val Acc: 0.4504\n",
      "Epoch 47/64 - Train Loss: 0.7464, Train Acc: 0.8395, Val Loss: 2.2775, Val Acc: 0.3423\n",
      "Epoch 48/64 - Train Loss: 0.7352, Train Acc: 0.8356, Val Loss: 1.9601, Val Acc: 0.4169\n",
      "Epoch 49/64 - Train Loss: 0.7331, Train Acc: 0.8408, Val Loss: 1.9310, Val Acc: 0.4354\n",
      "Epoch 50/64 - Train Loss: 0.7147, Train Acc: 0.8422, Val Loss: 1.8191, Val Acc: 0.4277\n",
      "Epoch 51/64 - Train Loss: 0.7203, Train Acc: 0.8459, Val Loss: 1.5686, Val Acc: 0.5327\n",
      "Epoch 52/64 - Train Loss: 0.7160, Train Acc: 0.8432, Val Loss: 1.8701, Val Acc: 0.4262\n",
      "Epoch 53/64 - Train Loss: 0.6981, Train Acc: 0.8481, Val Loss: 1.9809, Val Acc: 0.3900\n",
      "Epoch 54/64 - Train Loss: 0.6880, Train Acc: 0.8478, Val Loss: 2.0319, Val Acc: 0.4004\n",
      "Epoch 55/64 - Train Loss: 0.6864, Train Acc: 0.8519, Val Loss: 2.0173, Val Acc: 0.4327\n",
      "Epoch 56/64 - Train Loss: 0.6760, Train Acc: 0.8559, Val Loss: 1.7190, Val Acc: 0.4558\n",
      "Epoch 57/64 - Train Loss: 0.6685, Train Acc: 0.8541, Val Loss: 1.6817, Val Acc: 0.4962\n",
      "Epoch 58/64 - Train Loss: 0.6609, Train Acc: 0.8573, Val Loss: 1.7322, Val Acc: 0.4773\n",
      "Epoch 59/64 - Train Loss: 0.6509, Train Acc: 0.8615, Val Loss: 1.9378, Val Acc: 0.4435\n",
      "Epoch 60/64 - Train Loss: 0.6619, Train Acc: 0.8563, Val Loss: 1.9413, Val Acc: 0.4542\n",
      "Epoch 61/64 - Train Loss: 0.6583, Train Acc: 0.8637, Val Loss: 1.8346, Val Acc: 0.4542\n",
      "Epoch 62/64 - Train Loss: 0.6461, Train Acc: 0.8582, Val Loss: 1.8997, Val Acc: 0.4396\n",
      "Epoch 63/64 - Train Loss: 0.6434, Train Acc: 0.8640, Val Loss: 1.5126, Val Acc: 0.5392\n",
      "Epoch 64/64 - Train Loss: 0.6428, Train Acc: 0.8632, Val Loss: 1.9244, Val Acc: 0.4104\n"
     ]
    }
   ],
   "source": [
    "best_val_acc = 0.0\n",
    "\n",
    "train_losses, val_losses = [], []\n",
    "train_accuracies, val_accuracies = [], []\n",
    "\n",
    "for epoch in range(MAX_EPOCH):\n",
    "    student.train()\n",
    "    running_loss = 0.0\n",
    "    correct = 0\n",
    "    total = 0\n",
    "\n",
    "    for inputs, labels in train_loader:\n",
    "        inputs, labels = inputs.to(device), labels.to(device)\n",
    "\n",
    "        \n",
    "        inputs = random_horizontal_flip(inputs, p=0.5)\n",
    "        inputs = random_crop_variable(inputs, min_scale=0.5, max_scale=1.0)  \n",
    "        inputs = random_color_jitter(inputs, brightness=0.2, contrast=0.2)\n",
    "        \n",
    "\n",
    "        optimizer.zero_grad()\n",
    "        \n",
    "        # Student outputs (logits)\n",
    "        student_outputs = student(inputs)\n",
    "        \n",
    "        # Teacher outputs (logits), no grad\n",
    "        with torch.no_grad():\n",
    "            teacher_outputs = resnet34(inputs)\n",
    "        \n",
    "        # Classification loss (hard labels)\n",
    "        loss_ce = criterion_ce(student_outputs, labels)\n",
    "        \n",
    "        # Distillation loss (softened outputs)\n",
    "        soft_student = F.log_softmax(student_outputs / TEMPERATURE, dim=1)\n",
    "        soft_teacher = F.softmax(teacher_outputs / TEMPERATURE, dim=1)\n",
    "        loss_kd = criterion_kd(soft_student, soft_teacher) * (TEMPERATURE ** 2)\n",
    "        \n",
    "        # Combined loss\n",
    "        loss = LOSS_RATIO * loss_kd + (1 - LOSS_RATIO) * loss_ce\n",
    "        \n",
    "        loss.backward()\n",
    "        optimizer.step()\n",
    "        \n",
    "        running_loss += loss.item() * inputs.size(0)\n",
    "        _, predicted = torch.max(student_outputs, 1)\n",
    "        total += labels.size(0)\n",
    "        correct += (predicted == labels).sum().item()\n",
    "\n",
    "    train_loss = running_loss / total\n",
    "    train_acc = correct / total\n",
    "\n",
    "    # Validation phase\n",
    "    student.eval()\n",
    "    val_loss = 0.0\n",
    "    val_correct = 0\n",
    "    val_total = 0\n",
    "\n",
    "    with torch.no_grad():\n",
    "        for inputs, labels in val_loader:\n",
    "            inputs, labels = inputs.to(device), labels.to(device)\n",
    "            outputs = student(inputs)\n",
    "            loss_ce_val = criterion_ce(outputs, labels)\n",
    "            val_loss += loss_ce_val.item() * inputs.size(0)\n",
    "            _, predicted = torch.max(outputs, 1)\n",
    "            val_total += labels.size(0)\n",
    "            val_correct += (predicted == labels).sum().item()\n",
    "\n",
    "    val_loss /= val_total\n",
    "    val_acc = val_correct / val_total\n",
    "\n",
    "    train_losses.append(train_loss)\n",
    "    train_accuracies.append(train_acc)\n",
    "    val_losses.append(val_loss)\n",
    "    val_accuracies.append(val_acc)\n",
    "\n",
    "    print(f\"Epoch {epoch+1}/{MAX_EPOCH} - \"\n",
    "          f\"Train Loss: {train_loss:.4f}, Train Acc: {train_acc:.4f}, \"\n",
    "          f\"Val Loss: {val_loss:.4f}, Val Acc: {val_acc:.4f}\")\n",
    "\n",
    "    # Save best model weights\n",
    "    if val_acc > best_val_acc:\n",
    "        best_val_acc = val_acc\n",
    "        torch.save(student.state_dict(), \"resnet18_checkpoint.pkl\")\n"
   ]
  },
  {
   "cell_type": "code",
   "execution_count": null,
   "id": "54c05ed8",
   "metadata": {},
   "outputs": [
    {
     "data": {
      "image/png": "[encoded data removed]",
      "text/plain": [
       "<Figure size 1400x500 with 2 Axes>"
      ]
     },
     "metadata": {},
     "output_type": "display_data"
    }
   ],
   "source": [
    "import matplotlib.pyplot as plt\n",
    "\n",
    "# Cell 6: Plot loss and accuracy curves\n",
    "\n",
    "epochs = range(1, MAX_EPOCH + 1)\n",
    "\n",
    "plt.figure(figsize=(14, 5))\n",
    "\n",
    "# Loss plot\n",
    "plt.subplot(1, 2, 1)\n",
    "plt.plot(epochs, train_losses, label='Train Loss')\n",
    "plt.plot(epochs, val_losses, label='Validation Loss')\n",
    "plt.title('Loss Curve')\n",
    "plt.xlabel('Epoch')\n",
    "plt.ylabel('Loss')\n",
    "plt.legend()\n",
    "plt.grid(True)\n",
    "\n",
    "# Accuracy plot\n",
    "plt.subplot(1, 2, 2)\n",
    "plt.plot(epochs, train_accuracies, label='Train Accuracy')\n",
    "plt.plot(epochs, val_accuracies, label='Validation Accuracy')\n",
    "plt.title('Accuracy Curve')\n",
    "plt.xlabel('Epoch')\n",
    "plt.ylabel('Accuracy')\n",
    "plt.legend()\n",
    "plt.grid(True)\n",
    "\n",
    "plt.show()\n",
    "print(\"\")"
   ]
  },
  {
   "cell_type": "markdown",
   "id": "730790a6c4e96912",
   "metadata": {
    "collapsed": false
   },
   "source": [
    "# Step 4 Predict labels in the testing set\n",
    "1. Load the saved ResNet18 and move it to the selected device.\n",
    "2. Do prediction using the images in the testing set.\n",
    "3. Write the results into the CSV file for submission."
   ]
  },
  {
   "cell_type": "code",
   "execution_count": 322,
   "id": "d2a8f6f703b42a0a",
   "metadata": {
    "collapsed": false
   },
   "outputs": [
    {
     "name": "stderr",
     "output_type": "stream",
     "text": [
      "C:\\Users\\GGPC\\AppData\\Local\\Temp\\ipykernel_67748\\2566703126.py:7: FutureWarning: You are using `torch.load` with `weights_only=False` (the current default value), which uses the default pickle module implicitly. It is possible to construct malicious pickle data which will execute arbitrary code during unpickling (See https://github.com/pytorch/pytorch/blob/main/SECURITY.md#untrusted-models for more details). In a future release, the default value for `weights_only` will be flipped to `True`. This limits the functions that could be executed during unpickling. Arbitrary objects will no longer be allowed to be loaded via this mode unless they are explicitly allowlisted by the user via `torch.serialization.add_safe_globals`. We recommend you start setting `weights_only=True` for any use case where you don't have full control of the loaded file. Please open an issue on GitHub for any issues related to this experimental feature.\n",
      "  resnet18.load_state_dict(torch.load(\"resnet18_checkpoint.pkl\", map_location=device))  # Load trained weights\n"
     ]
    },
    {
     "data": {
      "text/plain": [
       "ResNet(\n",
       "  (conv1): Conv2d(3, 64, kernel_size=(7, 7), stride=(2, 2), padding=(3, 3), bias=False)\n",
       "  (bn1): BatchNorm2d(64, eps=1e-05, momentum=0.1, affine=True, track_running_stats=True)\n",
       "  (relu): ReLU(inplace=True)\n",
       "  (maxpool): MaxPool2d(kernel_size=3, stride=2, padding=1, dilation=1, ceil_mode=False)\n",
       "  (layer1): Sequential(\n",
       "    (0): BasicBlock(\n",
       "      (conv1): Conv2d(64, 64, kernel_size=(3, 3), stride=(1, 1), padding=(1, 1), bias=False)\n",
       "      (bn1): BatchNorm2d(64, eps=1e-05, momentum=0.1, affine=True, track_running_stats=True)\n",
       "      (relu): ReLU(inplace=True)\n",
       "      (conv2): Conv2d(64, 64, kernel_size=(3, 3), stride=(1, 1), padding=(1, 1), bias=False)\n",
       "      (bn2): BatchNorm2d(64, eps=1e-05, momentum=0.1, affine=True, track_running_stats=True)\n",
       "    )\n",
       "    (1): BasicBlock(\n",
       "      (conv1): Conv2d(64, 64, kernel_size=(3, 3), stride=(1, 1), padding=(1, 1), bias=False)\n",
       "      (bn1): BatchNorm2d(64, eps=1e-05, momentum=0.1, affine=True, track_running_stats=True)\n",
       "      (relu): ReLU(inplace=True)\n",
       "      (conv2): Conv2d(64, 64, kernel_size=(3, 3), stride=(1, 1), padding=(1, 1), bias=False)\n",
       "      (bn2): BatchNorm2d(64, eps=1e-05, momentum=0.1, affine=True, track_running_stats=True)\n",
       "    )\n",
       "  )\n",
       "  (layer2): Sequential(\n",
       "    (0): BasicBlock(\n",
       "      (conv1): Conv2d(64, 128, kernel_size=(3, 3), stride=(2, 2), padding=(1, 1), bias=False)\n",
       "      (bn1): BatchNorm2d(128, eps=1e-05, momentum=0.1, affine=True, track_running_stats=True)\n",
       "      (relu): ReLU(inplace=True)\n",
       "      (conv2): Conv2d(128, 128, kernel_size=(3, 3), stride=(1, 1), padding=(1, 1), bias=False)\n",
       "      (bn2): BatchNorm2d(128, eps=1e-05, momentum=0.1, affine=True, track_running_stats=True)\n",
       "      (downsample): Sequential(\n",
       "        (0): Conv2d(64, 128, kernel_size=(1, 1), stride=(2, 2), bias=False)\n",
       "        (1): BatchNorm2d(128, eps=1e-05, momentum=0.1, affine=True, track_running_stats=True)\n",
       "      )\n",
       "    )\n",
       "    (1): BasicBlock(\n",
       "      (conv1): Conv2d(128, 128, kernel_size=(3, 3), stride=(1, 1), padding=(1, 1), bias=False)\n",
       "      (bn1): BatchNorm2d(128, eps=1e-05, momentum=0.1, affine=True, track_running_stats=True)\n",
       "      (relu): ReLU(inplace=True)\n",
       "      (conv2): Conv2d(128, 128, kernel_size=(3, 3), stride=(1, 1), padding=(1, 1), bias=False)\n",
       "      (bn2): BatchNorm2d(128, eps=1e-05, momentum=0.1, affine=True, track_running_stats=True)\n",
       "    )\n",
       "  )\n",
       "  (layer3): Sequential(\n",
       "    (0): BasicBlock(\n",
       "      (conv1): Conv2d(128, 256, kernel_size=(3, 3), stride=(2, 2), padding=(1, 1), bias=False)\n",
       "      (bn1): BatchNorm2d(256, eps=1e-05, momentum=0.1, affine=True, track_running_stats=True)\n",
       "      (relu): ReLU(inplace=True)\n",
       "      (conv2): Conv2d(256, 256, kernel_size=(3, 3), stride=(1, 1), padding=(1, 1), bias=False)\n",
       "      (bn2): BatchNorm2d(256, eps=1e-05, momentum=0.1, affine=True, track_running_stats=True)\n",
       "      (downsample): Sequential(\n",
       "        (0): Conv2d(128, 256, kernel_size=(1, 1), stride=(2, 2), bias=False)\n",
       "        (1): BatchNorm2d(256, eps=1e-05, momentum=0.1, affine=True, track_running_stats=True)\n",
       "      )\n",
       "    )\n",
       "    (1): BasicBlock(\n",
       "      (conv1): Conv2d(256, 256, kernel_size=(3, 3), stride=(1, 1), padding=(1, 1), bias=False)\n",
       "      (bn1): BatchNorm2d(256, eps=1e-05, momentum=0.1, affine=True, track_running_stats=True)\n",
       "      (relu): ReLU(inplace=True)\n",
       "      (conv2): Conv2d(256, 256, kernel_size=(3, 3), stride=(1, 1), padding=(1, 1), bias=False)\n",
       "      (bn2): BatchNorm2d(256, eps=1e-05, momentum=0.1, affine=True, track_running_stats=True)\n",
       "    )\n",
       "  )\n",
       "  (layer4): Sequential(\n",
       "    (0): BasicBlock(\n",
       "      (conv1): Conv2d(256, 512, kernel_size=(3, 3), stride=(2, 2), padding=(1, 1), bias=False)\n",
       "      (bn1): BatchNorm2d(512, eps=1e-05, momentum=0.1, affine=True, track_running_stats=True)\n",
       "      (relu): ReLU(inplace=True)\n",
       "      (conv2): Conv2d(512, 512, kernel_size=(3, 3), stride=(1, 1), padding=(1, 1), bias=False)\n",
       "      (bn2): BatchNorm2d(512, eps=1e-05, momentum=0.1, affine=True, track_running_stats=True)\n",
       "      (downsample): Sequential(\n",
       "        (0): Conv2d(256, 512, kernel_size=(1, 1), stride=(2, 2), bias=False)\n",
       "        (1): BatchNorm2d(512, eps=1e-05, momentum=0.1, affine=True, track_running_stats=True)\n",
       "      )\n",
       "    )\n",
       "    (1): BasicBlock(\n",
       "      (conv1): Conv2d(512, 512, kernel_size=(3, 3), stride=(1, 1), padding=(1, 1), bias=False)\n",
       "      (bn1): BatchNorm2d(512, eps=1e-05, momentum=0.1, affine=True, track_running_stats=True)\n",
       "      (relu): ReLU(inplace=True)\n",
       "      (conv2): Conv2d(512, 512, kernel_size=(3, 3), stride=(1, 1), padding=(1, 1), bias=False)\n",
       "      (bn2): BatchNorm2d(512, eps=1e-05, momentum=0.1, affine=True, track_running_stats=True)\n",
       "    )\n",
       "  )\n",
       "  (avgpool): AdaptiveAvgPool2d(output_size=(1, 1))\n",
       "  (fc): Linear(in_features=512, out_features=10, bias=True)\n",
       ")"
      ]
     },
     "execution_count": 322,
     "metadata": {},
     "output_type": "execute_result"
    }
   ],
   "source": [
    "# TODO: 1. Load the saved ResNet18 and move it to the selected device.\n",
    "# Hint: Enable the evaluation mode to prevent updating the parameters.\n",
    "\n",
    "\n",
    "resnet18 = torchvision.models.resnet18(weights=None)  # Non-pretrained ResNet18\n",
    "resnet18.fc = torch.nn.Linear(resnet18.fc.in_features, num_classes)  # Adjust output layer\n",
    "resnet18.load_state_dict(torch.load(\"resnet18_checkpoint.pkl\", map_location=device))  # Load trained weights\n",
    "resnet18 = resnet18.to(device)\n",
    "resnet18.eval()  # Set to evaluation mode to disable dropout/batchnorm updates\n",
    "\n"
   ]
  },
  {
   "cell_type": "code",
   "execution_count": 323,
   "id": "44ee908450e937e7",
   "metadata": {
    "ExecuteTime": {
     "end_time": "2025-05-10T03:43:20.873625Z",
     "start_time": "2025-05-10T03:43:18.999813Z"
    },
    "collapsed": false
   },
   "outputs": [],
   "source": [
    "# TODO: 2. Do prediction using the images in the testing set.\n",
    "predictions = []\n",
    "\n",
    "# Create DataLoader for test set (no shuffle)\n",
    "test_dataset = TensorDataset(tensor_test)\n",
    "test_loader = DataLoader(test_dataset, batch_size=BATCH_SIZE, shuffle=False)\n",
    "\n",
    "resnet18.eval()  # Ensure evaluation mode\n",
    "with torch.no_grad():\n",
    "    for inputs in test_loader:\n",
    "        inputs = inputs[0].to(device)  # TensorDataset returns tuple\n",
    "        outputs = resnet18(inputs)\n",
    "        _, preds = torch.max(outputs, 1)\n",
    "        predictions.extend(preds.cpu().numpy())  # Store predictions as list\n"
   ]
  },
  {
   "cell_type": "code",
   "execution_count": 324,
   "id": "bee5ddbde0d132cf",
   "metadata": {
    "collapsed": false
   },
   "outputs": [],
   "source": [
    "# TODO: 3. Write the results into the CSV file for submission.\n",
    "# Hint: The CSV file should be in the format of 'file_name' and 'label'.\n",
    "#       The submission.csv should look like:\n",
    "#           file_name,label\n",
    "#           0.jpg,sunglasses\n",
    "#           ...\n",
    "\n",
    "\n",
    "index_to_label = {i: name for i, name in enumerate(unique_labels)}\n",
    "\n",
    "\n",
    "with open(\"submission.csv\", \"w\", newline=\"\") as f:\n",
    "    writer = csv.writer(f)\n",
    "    writer.writerow([\"file_name\", \"label\"])\n",
    "\n",
    "    for idx, pred in enumerate(predictions):\n",
    "        label_name = index_to_label[pred]\n",
    "        writer.writerow([f\"{idx}.jpg\", label_name])"
   ]
  }
 ],
 "metadata": {
  "kernelspec": {
   "display_name": "MSA",
   "language": "python",
   "name": "python3"
  },
  "language_info": {
   "codemirror_mode": {
    "name": "ipython",
    "version": 3
   },
   "file_extension": ".py",
   "mimetype": "text/x-python",
   "name": "python",
   "nbconvert_exporter": "python",
   "pygments_lexer": "ipython3",
   "version": "3.10.16"
  }
 },
 "nbformat": 4,
 "nbformat_minor": 5
}
