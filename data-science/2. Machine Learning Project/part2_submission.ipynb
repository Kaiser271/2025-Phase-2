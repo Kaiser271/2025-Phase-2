{
 "cells": [
  {
   "cell_type": "markdown",
   "id": "cbf6206a",
   "metadata": {},
   "source": [
    "# MSA 2025 Phase 2 - Part 2: Minimum Temperature Prediction from Weather Data"
   ]
  },
  {
   "cell_type": "markdown",
   "id": "3b46716d",
   "metadata": {},
   "source": [
    "## 1. Load and check the dataset"
   ]
  },
  {
   "cell_type": "code",
   "execution_count": 142,
   "id": "fe3ece13",
   "metadata": {},
   "outputs": [],
   "source": [
    "#load useful libraries\n",
    "import pandas as pd\n",
    "import numpy as np\n",
    "import matplotlib.pyplot as plt\n",
    "import datetime"
   ]
  },
  {
   "cell_type": "code",
   "execution_count": null,
   "id": "11a8294f",
   "metadata": {},
   "outputs": [
    {
     "name": "stderr",
     "output_type": "stream",
     "text": [
      "C:\\Users\\GGPC\\AppData\\Local\\Temp\\ipykernel_26472\\482264606.py:2: DtypeWarning: Columns (7,8,18,25) have mixed types. Specify dtype option on import or set low_memory=False.\n",
      "  df = pd.read_csv(\"Summary of Weather.csv\", encoding='latin1')\n"
     ]
    },
    {
     "data": {
      "text/plain": [
       "119040"
      ]
     },
     "execution_count": 143,
     "metadata": {},
     "output_type": "execute_result"
    }
   ],
   "source": [
    "#import the data\n",
    "df = pd.read_csv(\"Summary of Weather.csv\", encoding='latin1')\n",
    "df.shape[0] # number of rows in the dataframe"
   ]
  },
  {
   "cell_type": "code",
   "execution_count": 144,
   "id": "5752380a",
   "metadata": {},
   "outputs": [
    {
     "name": "stdout",
     "output_type": "stream",
     "text": [
      "             Empty Cells\n",
      "STA                    0\n",
      "Date                   0\n",
      "Precip                 0\n",
      "WindGustSpd       118508\n",
      "MaxTemp                0\n",
      "MinTemp                0\n",
      "MeanTemp               0\n",
      "Snowfall            1163\n",
      "PoorWeather        84803\n",
      "YR                     0\n",
      "MO                     0\n",
      "DA                     0\n",
      "PRCP                1932\n",
      "DR                118507\n",
      "SPD               118508\n",
      "MAX                  474\n",
      "MIN                  468\n",
      "MEA                  498\n",
      "SNF                 1163\n",
      "SND               113477\n",
      "FT                119040\n",
      "FB                119040\n",
      "FTI               119040\n",
      "ITH               119040\n",
      "PGT               118515\n",
      "TSHDSBRSGF         84803\n",
      "SD3               119040\n",
      "RHX               119040\n",
      "RHN               119040\n",
      "RVG               119040\n",
      "WTE               119040\n"
     ]
    }
   ],
   "source": [
    "missing_data = df.isnull().sum().to_frame()\n",
    "\n",
    "# Rename column holding the sums\n",
    "missing_data = missing_data.rename(columns={0:'Empty Cells'})\n",
    "\n",
    "# Print the results\n",
    "print(missing_data)"
   ]
  },
  {
   "cell_type": "code",
   "execution_count": 145,
   "id": "b11fa574",
   "metadata": {},
   "outputs": [
    {
     "data": {
      "text/plain": [
       "STA                     Int64\n",
       "Date           string[python]\n",
       "Precip         string[python]\n",
       "WindGustSpd           Float64\n",
       "MaxTemp               Float64\n",
       "MinTemp               Float64\n",
       "MeanTemp              Float64\n",
       "Snowfall               object\n",
       "PoorWeather            object\n",
       "YR                      Int64\n",
       "MO                      Int64\n",
       "DA                      Int64\n",
       "PRCP           string[python]\n",
       "DR                      Int64\n",
       "SPD                     Int64\n",
       "MAX                     Int64\n",
       "MIN                     Int64\n",
       "MEA                     Int64\n",
       "SNF                    object\n",
       "SND                     Int64\n",
       "FT                      Int64\n",
       "FB                      Int64\n",
       "FTI                     Int64\n",
       "ITH                     Int64\n",
       "PGT                   Float64\n",
       "TSHDSBRSGF             object\n",
       "SD3                     Int64\n",
       "RHX                     Int64\n",
       "RHN                     Int64\n",
       "RVG                     Int64\n",
       "WTE                     Int64\n",
       "dtype: object"
      ]
     },
     "execution_count": 145,
     "metadata": {},
     "output_type": "execute_result"
    }
   ],
   "source": [
    "df = df.convert_dtypes()\n",
    "df.dtypes"
   ]
  },
  {
   "cell_type": "markdown",
   "id": "24632408",
   "metadata": {},
   "source": [
    "## 2. Clean the dataset, drop variables"
   ]
  },
  {
   "cell_type": "code",
   "execution_count": null,
   "id": "4d57ea4c",
   "metadata": {},
   "outputs": [],
   "source": []
  },
  {
   "cell_type": "markdown",
   "id": "6a3ab152",
   "metadata": {},
   "source": [
    "## 3. Select the feature(s) for the model, and explain the reason"
   ]
  },
  {
   "cell_type": "code",
   "execution_count": 20,
   "id": "5696ae4f",
   "metadata": {},
   "outputs": [],
   "source": [
    "# write your answer here"
   ]
  },
  {
   "cell_type": "markdown",
   "id": "a726bcc8",
   "metadata": {},
   "source": [
    "## 4. Split the dataset (80% for training, 20% for testing)"
   ]
  },
  {
   "cell_type": "code",
   "execution_count": null,
   "id": "d8486b2e",
   "metadata": {},
   "outputs": [],
   "source": []
  },
  {
   "cell_type": "markdown",
   "id": "81d5a4da",
   "metadata": {},
   "source": [
    "## 5. Choose the algorithm, train and test the model"
   ]
  },
  {
   "cell_type": "code",
   "execution_count": null,
   "id": "04b47504",
   "metadata": {},
   "outputs": [],
   "source": []
  },
  {
   "cell_type": "markdown",
   "id": "f872ee29",
   "metadata": {},
   "source": [
    "## 6. Evaluate and Visualize model Performance"
   ]
  },
  {
   "cell_type": "code",
   "execution_count": null,
   "id": "5533d7f7",
   "metadata": {},
   "outputs": [],
   "source": []
  },
  {
   "cell_type": "markdown",
   "id": "33c3436b",
   "metadata": {},
   "source": [
    "## 7. What is the R² value and RMSE of the model? How these values indicate the model performance?"
   ]
  },
  {
   "cell_type": "code",
   "execution_count": 21,
   "id": "d38410be",
   "metadata": {},
   "outputs": [],
   "source": [
    "# write your answer here"
   ]
  },
  {
   "cell_type": "markdown",
   "id": "37493b66",
   "metadata": {},
   "source": [
    "## 8. Discuss the model performance based on the plot"
   ]
  },
  {
   "cell_type": "code",
   "execution_count": 22,
   "id": "e1849e70",
   "metadata": {},
   "outputs": [],
   "source": [
    "# write your answer here"
   ]
  }
 ],
 "metadata": {
  "kernelspec": {
   "display_name": "base",
   "language": "python",
   "name": "python3"
  },
  "language_info": {
   "codemirror_mode": {
    "name": "ipython",
    "version": 3
   },
   "file_extension": ".py",
   "mimetype": "text/x-python",
   "name": "python",
   "nbconvert_exporter": "python",
   "pygments_lexer": "ipython3",
   "version": "3.12.7"
  }
 },
 "nbformat": 4,
 "nbformat_minor": 5
}
